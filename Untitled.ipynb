{
 "cells": [
  {
   "cell_type": "code",
   "execution_count": 3,
   "metadata": {},
   "outputs": [
    {
     "name": "stdout",
     "output_type": "stream",
     "text": [
      "q =  2\n",
      "r =  5\n",
      "s =  3\n",
      "t =  9\n",
      "u =  5\n",
      "v =  7\n",
      "w =  1\n",
      "x =  6\n",
      "y =  4\n",
      "q =  3\n",
      "r =  6\n",
      "s =  3\n",
      "t =  8\n",
      "u =  4\n",
      "v =  7\n",
      "w =  1\n",
      "x =  7\n",
      "y =  4\n",
      "q =  4\n",
      "r =  7\n",
      "s =  3\n",
      "t =  7\n",
      "u =  3\n",
      "v =  7\n",
      "w =  1\n",
      "x =  8\n",
      "y =  4\n",
      "q =  5\n",
      "r =  8\n",
      "s =  3\n",
      "t =  6\n",
      "u =  2\n",
      "v =  7\n",
      "w =  1\n",
      "x =  9\n",
      "y =  4\n"
     ]
    }
   ],
   "source": [
    "for q in range(10):\n",
    "    for r in range(10):\n",
    "        s = 3\n",
    "        for t in range(10):\n",
    "            for u in range(10):\n",
    "                for v in range(10):\n",
    "                    for w in range(10):\n",
    "                        for x in range(10):\n",
    "                            y = 4\n",
    "                            if (q + v + s + u == 17):\n",
    "                                if (x + w + t + y == 20):\n",
    "                                    if (u + y + q + w == 12):\n",
    "                                        if (t + s + v + r == 24):\n",
    "                                            if (q + x + u + t == 22):\n",
    "                                                if (v + w + y + s == 15):\n",
    "                                                    if (s + t + q + v == 21):\n",
    "                                                        if (u + y + w + r == 15):\n",
    "                                                            print('q = ', q )\n",
    "                                                            print('r = ', r )\n",
    "                                                            print('s = ', s )\n",
    "                                                            print('t = ', t )\n",
    "                                                            print('u = ', u )\n",
    "                                                            print('v = ', v )\n",
    "                                                            print('w = ', w )\n",
    "                                                            print('x = ', x )\n",
    "                                                            print('y = ', y )\n",
    "                                                                    \n",
    "                                                                    \n",
    "                                \n"
   ]
  }
 ],
 "metadata": {
  "kernelspec": {
   "display_name": "Python 3",
   "language": "python",
   "name": "python3"
  },
  "language_info": {
   "codemirror_mode": {
    "name": "ipython",
    "version": 3
   },
   "file_extension": ".py",
   "mimetype": "text/x-python",
   "name": "python",
   "nbconvert_exporter": "python",
   "pygments_lexer": "ipython3",
   "version": "3.5.2"
  },
  "widgets": {
   "state": {},
   "version": "1.1.2"
  }
 },
 "nbformat": 4,
 "nbformat_minor": 2
}
